{
  "nbformat": 4,
  "nbformat_minor": 0,
  "metadata": {
    "colab": {
      "name": "Factorial.ipynb",
      "provenance": [],
      "authorship_tag": "ABX9TyPcaLMfb49Z+Yae9ii8W/YZ",
      "include_colab_link": true
    },
    "kernelspec": {
      "name": "python3",
      "display_name": "Python 3"
    },
    "language_info": {
      "name": "python"
    }
  },
  "cells": [
    {
      "cell_type": "markdown",
      "metadata": {
        "id": "view-in-github",
        "colab_type": "text"
      },
      "source": [
        "<a href=\"https://colab.research.google.com/github/EduDN/AlgoritmosC./blob/main/Factorial.ipynb\" target=\"_parent\"><img src=\"https://colab.research.google.com/assets/colab-badge.svg\" alt=\"Open In Colab\"/></a>"
      ]
    },
    {
      "cell_type": "code",
      "execution_count": null,
      "metadata": {
        "colab": {
          "base_uri": "https://localhost:8080/"
        },
        "id": "ClTA3pGClAXt",
        "outputId": "3278bfa4-b0d4-4145-93ca-dc1a7fc82294"
      },
      "outputs": [
        {
          "output_type": "stream",
          "name": "stdout",
          "text": [
            "Ingresa un número: -8\n",
            "El factorial del número -8 es 1\n"
          ]
        }
      ],
      "source": [
        "''' \n",
        "PSEUDOCODIGO\n",
        "\n",
        "Variable numero \n",
        "Escribir \"Ingresa un número\"\n",
        "contador = 0\n",
        "fact = 1\n",
        "\n",
        "para contador en rango(1,(numero+1))\n",
        " fact = contador * fact\n",
        "Escribir \"El factorial del num, {numero} es {fact}\"\n",
        "\n",
        "'''\n",
        "\n",
        "\n",
        "numero = int(input(\"Ingresa un número: \"))\n",
        "contador = 0\n",
        "fact = 1\n",
        "\n",
        "for contador in range(1,(numero+1)):\n",
        "    fact = contador * fact\n",
        "print(f\"El factorial del número {numero} es {str(fact)}\")         "
      ]
    }
  ]
}