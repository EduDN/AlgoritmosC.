{
  "nbformat": 4,
  "nbformat_minor": 0,
  "metadata": {
    "colab": {
      "name": "Ajedrez.ipynb",
      "provenance": [],
      "authorship_tag": "ABX9TyOxi+yzdm+fw0eZ9HEqiDT8",
      "include_colab_link": true
    },
    "kernelspec": {
      "name": "python3",
      "display_name": "Python 3"
    },
    "language_info": {
      "name": "python"
    }
  },
  "cells": [
    {
      "cell_type": "markdown",
      "metadata": {
        "id": "view-in-github",
        "colab_type": "text"
      },
      "source": [
        "<a href=\"https://colab.research.google.com/github/EduDN/AlgoritmosC./blob/main/Ajedrez.ipynb\" target=\"_parent\"><img src=\"https://colab.research.google.com/assets/colab-badge.svg\" alt=\"Open In Colab\"/></a>"
      ]
    },
    {
      "cell_type": "code",
      "source": [
        "# ALGORITMOS - 16FEB - COLOCAR 8 REINAS DE AJEDREZ DE TAL MANERA QUE NO SE PUEDAN ATACAR ENTRE ELLAS\n",
        "\n",
        "def free(row, col):\n",
        "        \"\"\" Determina si la casilla rowxcol está libre de ataques.\n",
        "\n",
        "        @param row: Fila\n",
        "        @param col: Columna\n",
        "        @return: True si la casilla está libre de ataques por otras reinas.\n",
        "        \"\"\"\n",
        "        for i in range(8):\n",
        "            if tablero[row][i] == 'R' or tablero[i][col] == 'R':\n",
        "                return False\n",
        "\n",
        "        if row <= col:\n",
        "            c = col - row\n",
        "            r = 0\n",
        "        else:\n",
        "            r = row - col\n",
        "            c = 0\n",
        "        while c < 8 and r < 8:\n",
        "            if tablero[r][c] == 'R':\n",
        "                return False\n",
        "            r += 1\n",
        "            c += 1\n",
        "\n",
        "        if row <= col:\n",
        "            r = 0\n",
        "            c = col + row\n",
        "            if c > 7:\n",
        "                r = c - 7\n",
        "                c = 7\n",
        "        else:\n",
        "            c = 7\n",
        "            r = row - (7 - col)\n",
        "\n",
        "        while c >= 0 and r < 8:\n",
        "            if tablero[r][c] == 'R':\n",
        "                return False\n",
        "            r += 1\n",
        "            c -= 1\n",
        "\n",
        "        return True\n",
        "\n",
        "def agregar_reina(n):\n",
        "        \"\"\" Agrega n reinas al tablero.\n",
        "\n",
        "        @param: n El número de reinas a agregar\n",
        "        @return True si se pudo agregar las reinas requeridas\n",
        "        \"\"\"\n",
        "        if n < 1:\n",
        "            return True\n",
        "\n",
        "        for idx_row in range(8):\n",
        "            for idx_col in range(8):\n",
        "                if free(idx_row, idx_col):\n",
        "                    tablero[idx_row][idx_col] = 'R'\n",
        "                    if agregar_reina(n-1):\n",
        "                        return True\n",
        "                    else:\n",
        "                        tablero[idx_row][idx_col] = '_'\n",
        "\n",
        "        return False\n",
        "\n",
        "tablero = []\n",
        "for i in range(8):\n",
        "    tablero.append(['_'] * 8)\n",
        "agregar_reina(8)\n",
        "for row in tablero:\n",
        "    print(*row)\n"
      ],
      "metadata": {
        "colab": {
          "base_uri": "https://localhost:8080/"
        },
        "id": "_8tOnlHHVxTy",
        "outputId": "30188d15-9b95-487e-9c4c-e0502dcc1592"
      },
      "execution_count": 2,
      "outputs": [
        {
          "output_type": "stream",
          "name": "stdout",
          "text": [
            "R _ _ _ _ _ _ _\n",
            "_ _ _ _ R _ _ _\n",
            "_ _ _ _ _ _ _ R\n",
            "_ _ _ _ _ R _ _\n",
            "_ _ R _ _ _ _ _\n",
            "_ _ _ _ _ _ R _\n",
            "_ R _ _ _ _ _ _\n",
            "_ _ _ R _ _ _ _\n"
          ]
        }
      ]
    }
  ]
}