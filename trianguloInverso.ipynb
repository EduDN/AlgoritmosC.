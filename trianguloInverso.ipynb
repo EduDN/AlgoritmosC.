{
  "nbformat": 4,
  "nbformat_minor": 0,
  "metadata": {
    "colab": {
      "name": "trianguloInverso.ipynb",
      "provenance": [],
      "authorship_tag": "ABX9TyOKURbKVsMtSyIOBf0nYNVi",
      "include_colab_link": true
    },
    "kernelspec": {
      "name": "python3",
      "display_name": "Python 3"
    },
    "language_info": {
      "name": "python"
    }
  },
  "cells": [
    {
      "cell_type": "markdown",
      "metadata": {
        "id": "view-in-github",
        "colab_type": "text"
      },
      "source": [
        "<a href=\"https://colab.research.google.com/github/EduDN/AlgoritmosC./blob/main/trianguloInverso.ipynb\" target=\"_parent\"><img src=\"https://colab.research.google.com/assets/colab-badge.svg\" alt=\"Open In Colab\"/></a>"
      ]
    },
    {
      "cell_type": "code",
      "execution_count": 5,
      "metadata": {
        "colab": {
          "base_uri": "https://localhost:8080/"
        },
        "id": "0T8P9n6XeXAf",
        "outputId": "bd342b80-cf82-41d4-806c-43daf4766c0b"
      },
      "outputs": [
        {
          "output_type": "stream",
          "name": "stdout",
          "text": [
            "Introduce la altura del trángulo5\n",
            "* * * * * \n",
            " * * * * \n",
            "  * * * \n",
            "   * * \n",
            "    * \n"
          ]
        }
      ],
      "source": [
        "'''\n",
        "\n",
        "definir num\n",
        "   escribir(\"Introduce la altura del triángulo\")\n",
        "para rango en reversa del 0 al num\n",
        "para i en rango del 0 al ( num - 1 )\n",
        "#espacios\n",
        "     escribir (\" \")\n",
        "para i en rango del 0 al ( num + 1 )\n",
        "     escribir (\"*\")\n",
        "\n",
        "'''\n",
        "num = int(input(\"Introduce la altura del triángulo\"))\n",
        "\n",
        "for var in reversed(range(0, num)):\n",
        "    for i in range(0, num - var - 1):\n",
        "        #espacios\n",
        "        print(end=\" \")\n",
        "    for i in range(0, var + 1):\n",
        "        print(\"*\", end=\" \")\n",
        "    print()"
      ]
    }
  ]
}