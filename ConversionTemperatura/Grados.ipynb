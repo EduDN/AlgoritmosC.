{
  "nbformat": 4,
  "nbformat_minor": 0,
  "metadata": {
    "colab": {
      "name": "Grados.ipynb",
      "provenance": [],
      "authorship_tag": "ABX9TyNH2sGe+Rg+Cwv8ghjr8Ewn",
      "include_colab_link": true
    },
    "kernelspec": {
      "name": "python3",
      "display_name": "Python 3"
    },
    "language_info": {
      "name": "python"
    }
  },
  "cells": [
    {
      "cell_type": "markdown",
      "metadata": {
        "id": "view-in-github",
        "colab_type": "text"
      },
      "source": [
        "<a href=\"https://colab.research.google.com/github/EduDN/AlgoritmosC./blob/main/ConversionTemperatura/Grados.ipynb\" target=\"_parent\"><img src=\"https://colab.research.google.com/assets/colab-badge.svg\" alt=\"Open In Colab\"/></a>"
      ]
    },
    {
      "cell_type": "code",
      "source": [
        "def fahrenheit_a_celsius(f):\n",
        "    return (f - 32) / 1.8\n",
        "\n",
        "\n",
        "def celsius_a_fahrenheit(c):\n",
        "    return (c * 1.8) + 32\n",
        "\n",
        "\n",
        "# Modo de uso\n",
        "f = float(input(\"Ingresa los grados Fahrenheit: \"))\n",
        "c = fahrenheit_a_celsius(f)\n",
        "print(f\"Los {f} grados Fahrenheit son {c} grados celsius\")\n",
        "\n",
        "c = float(input(\"Ingresa los grados Celsius: \"))\n",
        "f = celsius_a_fahrenheit(c)\n",
        "print(f\"Los {c} grados Celsius son {f} grados Fahrenheit\")"
      ],
      "metadata": {
        "colab": {
          "base_uri": "https://localhost:8080/"
        },
        "id": "PYQmQOFkOkSS",
        "outputId": "3ca8f972-331d-429d-c4b6-17f1a5fbf07f"
      },
      "execution_count": 3,
      "outputs": [
        {
          "output_type": "stream",
          "name": "stdout",
          "text": [
            "Ingresa los grados Fahrenheit: 20\n",
            "Los 20.0 grados Fahrenheit son -6.666666666666666 grados celsius\n",
            "Ingresa los grados Celsius: 40\n",
            "Los 40.0 grados Celsius son 104.0 grados Fahrenheit\n"
          ]
        }
      ]
    }
  ]
}