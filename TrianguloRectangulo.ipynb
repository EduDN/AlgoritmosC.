{
  "nbformat": 4,
  "nbformat_minor": 0,
  "metadata": {
    "colab": {
      "name": "TrianguloRectangulo.ipynb",
      "provenance": [],
      "authorship_tag": "ABX9TyOI1UjgnPTbusRtcwlFK0Dp",
      "include_colab_link": true
    },
    "kernelspec": {
      "name": "python3",
      "display_name": "Python 3"
    },
    "language_info": {
      "name": "python"
    }
  },
  "cells": [
    {
      "cell_type": "markdown",
      "metadata": {
        "id": "view-in-github",
        "colab_type": "text"
      },
      "source": [
        "<a href=\"https://colab.research.google.com/github/EduDN/AlgoritmosC./blob/main/TrianguloRectangulo.ipynb\" target=\"_parent\"><img src=\"https://colab.research.google.com/assets/colab-badge.svg\" alt=\"Open In Colab\"/></a>"
      ]
    },
    {
      "cell_type": "code",
      "execution_count": 6,
      "metadata": {
        "colab": {
          "base_uri": "https://localhost:8080/"
        },
        "id": "NCvmodpURnuf",
        "outputId": "82ababc7-fb6a-42ef-a91c-2d9c8de3f6c2"
      },
      "outputs": [
        {
          "output_type": "stream",
          "name": "stdout",
          "text": [
            "Triángulo rectangulo\n",
            "Ingresa el tamaño del triángulo: 10\n",
            "*\n",
            "**\n",
            "***\n",
            "****\n",
            "*****\n",
            "******\n",
            "*******\n",
            "********\n",
            "*********\n",
            "**********\n",
            "***********\n"
          ]
        }
      ],
      "source": [
        "'''\n",
        "\n",
        "Escribir TRIANGULO RECTANGULO\n",
        "Definir x \n",
        "Escribir \"Ingresa el tamaño del triángulo\" \n",
        "Definir simbolo = escribir \"*\"\n",
        "Escribir simbolo \n",
        "para i en rango del 0 al ( x  )   \n",
        "   Definir simbolo = simbolo + escribir \" *  \"\n",
        "   Escribir simbolo\n",
        "   \n",
        "    \n",
        "'''\n",
        "print(\"Triángulo rectangulo\")\n",
        "x = int(input(\"Ingresa el tamaño del triángulo: \"))\n",
        "simbolo = '*'\n",
        "print(simbolo)\n",
        "for i in range(x):\n",
        "   simbolo = simbolo + '*'\n",
        "   print(simbolo)"
      ]
    },
    {
      "cell_type": "code",
      "source": [
        ""
      ],
      "metadata": {
        "id": "TXry2mybUF1z"
      },
      "execution_count": null,
      "outputs": []
    }
  ]
}