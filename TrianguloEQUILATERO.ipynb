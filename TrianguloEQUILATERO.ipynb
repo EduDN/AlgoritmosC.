{
  "nbformat": 4,
  "nbformat_minor": 0,
  "metadata": {
    "colab": {
      "name": "TrianguloEQUILATERO.ipynb",
      "provenance": [],
      "authorship_tag": "ABX9TyORGoBMUx19rp+mKpWGcvCD",
      "include_colab_link": true
    },
    "kernelspec": {
      "name": "python3",
      "display_name": "Python 3"
    },
    "language_info": {
      "name": "python"
    }
  },
  "cells": [
    {
      "cell_type": "markdown",
      "metadata": {
        "id": "view-in-github",
        "colab_type": "text"
      },
      "source": [
        "<a href=\"https://colab.research.google.com/github/EduDN/AlgoritmosC./blob/main/TrianguloEQUILATERO.ipynb\" target=\"_parent\"><img src=\"https://colab.research.google.com/assets/colab-badge.svg\" alt=\"Open In Colab\"/></a>"
      ]
    },
    {
      "cell_type": "code",
      "execution_count": 7,
      "metadata": {
        "colab": {
          "base_uri": "https://localhost:8080/"
        },
        "id": "hl6dPb_DegQZ",
        "outputId": "81a6a38b-0749-416b-fc8c-c487c26ddeab"
      },
      "outputs": [
        {
          "output_type": "stream",
          "name": "stdout",
          "text": [
            "               \n",
            "              **\n",
            "             ****\n",
            "            ******\n",
            "           ********\n",
            "          **********\n",
            "         ************\n",
            "        **************\n",
            "       ****************\n",
            "      ******************\n",
            "     ********************\n"
          ]
        }
      ],
      "source": [
        "import math\n",
        "max=21\n",
        "separacion=5\n",
        "j=1\n",
        " \n",
        "# creamos triangulo\n",
        "for i in range(0,max,2):\n",
        "   \n",
        "    # ponemos los espacios\n",
        "    linea=(separacion+math.ceil(max/2)-j)*\" \"\n",
        "    \n",
        "    # ponemos los asteriscos\n",
        "    linea+=i*\"*\"\n",
        " \n",
        "    j+=1\n",
        "    print(linea)\n",
        " \n"
      ]
    }
  ]
}